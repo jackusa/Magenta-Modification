{
 "cells": [
  {
   "cell_type": "markdown",
   "metadata": {},
   "source": [
    "# Magenta魔改记-1：MIDI文件读取\n",
    "\n",
    "Magenta支持MIDI（.mid/.midi）文件与MusicXML（.xml/.mxl）、ABC数据（http://abcnotation.com，没有测试过）文件做训练数据。\n",
    "通常，制作数据集的步骤是，先将原始文件转化成单个tfrecord文件保存，再根据每个不同的模型进行不同的数据清洗与处理。\n",
    "\n",
    "那么这篇文章先着重分析第一步，将MIDI/MusicXML文件直接转换成tfrecord：\n",
    "对应github中的提示：\n",
    "https://github.com/tensorflow/magenta/tree/master/magenta/scripts#building-your-dataset\n",
    "\n",
    "上述链接中的命令行如下：\n",
    "\n",
    "```\n",
    "INPUT_DIRECTORY=<folder containing MIDI and/or MusicXML files. can have child folders.>\n",
    "\n",
    "# TFRecord file that will contain NoteSequence protocol buffers.\n",
    "SEQUENCES_TFRECORD=/tmp/notesequences.tfrecord\n",
    "\n",
    "convert_dir_to_note_sequences \\\n",
    "  --input_dir=$INPUT_DIRECTORY \\\n",
    "  --output_file=$SEQUENCES_TFRECORD \\\n",
    "  --recursive\n",
    "```\n",
    "\n",
    "这一步的bazel命令行如下（摘自源代码注释）：\n",
    "\n",
    "```\n",
    "Example usage:\n",
    "  $ bazel build magenta/scripts:convert_dir_to_note_sequences\n",
    "\n",
    "  $ ./bazel-bin/magenta/scripts/convert_dir_to_note_sequences \\\n",
    "    --input_dir=/path/to/input/dir \\\n",
    "    --output_file=/path/to/tfrecord/file \\\n",
    "    --num_threads=4 \\\n",
    "--log=INFO\n",
    "```\n",
    "\n",
    "可以看到，两个命令行的参数内容都不同，可见Magenta项目组对于文档或API的介绍并没有进行认真的维护。\n",
    " \n",
    "## 魔改-1.0：\n",
    "\n",
    "\n",
    "那么下面介绍如何修改这一步预处理的参数。\n",
    "\n",
    "这一步运行的文件位置如下：\n",
    "https://github.com/tensorflow/magenta/blob/master/magenta/scripts/convert_dir_to_note_sequences.py\n",
    "\n",
    "\n",
    "\n",
    "打开源代码我们可以看到，程序一开始就定义了一系列tf.flag：\n",
    "\n",
    "```\n",
    "FLAGS = tf.app.flags.FLAGS\n",
    "\n",
    "tf.app.flags.DEFINE_string('input_dir', None,\n",
    "                           'Directory containing files to convert.')\n",
    "#输入路径\n",
    "tf.app.flags.DEFINE_string('output_file', None,\n",
    "                           'Path to output TFRecord file. Will be overwritten '\n",
    "                           'if it already exists.')\n",
    "#输出路径\n",
    "tf.app.flags.DEFINE_bool('recursive', False,\n",
    "                         'Whether or not to recurse into subdirectories.')\n",
    "#是否递归查找子路径的文件\n",
    "tf.app.flags.DEFINE_integer('num_threads', 1,\n",
    "                            'Number of worker threads to run in parallel.')\n",
    "#线程数量。如果数据文件很多且CPU性能足够的话，建议设置一个相对大的值\n",
    "tf.app.flags.DEFINE_string('log', 'INFO',\n",
    "                           'The threshold for what messages will be logged '\n",
    "                           'DEBUG, INFO, WARN, ERROR, or FATAL.')\n",
    "#显示消息的类型\n",
    "```\n",
    "\n",
    "这是Tensorflow中用于从命令行传递参数的变量，基于argparse实现。如果在运行时不输入参数，则会按程序中默认填写的参数运行。\n",
    "因此可以看到，这一个程序共有5个参数，而上面两种命令行方法都没有写出所有的变量，但上述两种方法都能运行，因为没有默认值的变量只有输入路径和输出路径两个。\n",
    "通过\n",
    "```\n",
    "python convert_dir_to_note_sequences.py.py –h \n",
    "```\n",
    "\n",
    "可以显示注释信息和参数及其详情。\n",
    "因此，我们在自定义参数时，既可以在命令行运行时输入：\n",
    "```\n",
    "python convert_dir_to_note_sequences.py --input_dir=E:\\Magenta\\Dataset\\raw\\bach --output_file=E:\\Magenta\\Dataset\\pre\\bach.tfrecord --recursive=True --num_threads=4\n",
    "```\n",
    "同样，我们也可以把前面这几行当做超参数变量声明，直接在程序里改（第二个参数），然后运行。\n",
    " \n"
   ]
  },
  {
   "cell_type": "markdown",
   "metadata": {},
   "source": [
    "## 魔改-2.0\n",
    "\n",
    "###### Magenta version:0.3.6\n",
    "\n",
    "接下来介绍这一步的详细原理以及文件储存的数据类型。\n",
    "\n",
    "源代码地址：\n",
    "https://github.com/tensorflow/magenta/blob/master/magenta/scripts/convert_dir_to_note_sequences.py\n",
    "\n",
    "在本程序中，大致的运行步骤为：\n",
    "1. 先检测输入路径（以及子路径）中所有符合要求的文件，生成文件路径列表。\n",
    "2. 再根据列表多线程的处理数据。\n",
    "3. 最后再存成.tfrecord文件。\n",
    "\n",
    "第一步对应queue_conversions(root_dir, sub_dir, pool, recursive=False)函数，在此不多展开。\n",
    "\n",
    "第二步对应convert_midi(root_dir, sub_dir, full_file_path)、\n",
    "convert_musicxml(root_dir, sub_dir, full_file_path)两个函数。顾名思义就是针对midi和xml文件的处理函数（一开始说的ABC数据处理函数未知）。它们的参数以及返回值可以在函数注释中找到详细的介绍。简单来说就是输入文件路径、文件所在文件夹路径、上一级路径，输出NoteSequence proto，一个在Magenta项目中用来表示音符序列的数据类型。\n",
    "\n",
    "第三步则对应convert_directory(root_dir, output_file, num_threads,recursive=False)，是总的函数。"
   ]
  },
  {
   "cell_type": "markdown",
   "metadata": {},
   "source": [
    "首先我们可以把这个文件导入："
   ]
  },
  {
   "cell_type": "code",
   "execution_count": 1,
   "metadata": {
    "collapsed": false
   },
   "outputs": [],
   "source": [
    "import tensorflow as tf\n",
    "import magenta as mgt\n",
    "import magenta.scripts.convert_dir_to_note_sequences as cvrt"
   ]
  },
  {
   "cell_type": "markdown",
   "metadata": {},
   "source": [
    "导入之后我们也可以用查看子类的方式查看它的FLAGS参数："
   ]
  },
  {
   "cell_type": "code",
   "execution_count": 2,
   "metadata": {
    "collapsed": false
   },
   "outputs": [
    {
     "name": "stdout",
     "output_type": "stream",
     "text": [
      "\n",
      "magenta.scripts.convert_dir_to_note_sequences:\n",
      "  --input_dir: Directory containing files to convert.\n",
      "  --log: The threshold for what messages will be logged DEBUG, INFO, WARN,\n",
      "    ERROR, or FATAL.\n",
      "    (default: 'INFO')\n",
      "  --num_threads: Number of worker threads to run in parallel.\n",
      "    (default: '1')\n",
      "    (an integer)\n",
      "  --output_file: Path to output TFRecord file. Will be overwritten if it already\n",
      "    exists.\n",
      "  --[no]recursive: Whether or not to recurse into subdirectories.\n",
      "    (default: 'false')\n",
      "\n",
      "absl.flags:\n",
      "  --flagfile: Insert flag definitions from the given file into the command line.\n",
      "    (default: '')\n",
      "  --undefok: comma-separated list of flag names that it is okay to specify on\n",
      "    the command line even if the program does not define a flag with that name.\n",
      "    IMPORTANT: flags in this list that have arguments MUST use the --flag=value\n",
      "    format.\n",
      "    (default: '')\n"
     ]
    }
   ],
   "source": [
    "print(cvrt.FLAGS)"
   ]
  },
  {
   "cell_type": "code",
   "execution_count": 3,
   "metadata": {
    "collapsed": true
   },
   "outputs": [],
   "source": [
    "#加这行是因为jupyter notebook对tf.app.flags.FLAGS有bug\n",
    "#见https://github.com/tensorflow/tensorflow/issues/17702\n",
    "tf.app.flags.DEFINE_string('f', '', 'kernel')"
   ]
  },
  {
   "cell_type": "markdown",
   "metadata": {},
   "source": [
    "因此我们也可以用修改FLAGS子类参数的方法运行本程序：\n",
    "\n",
    "我这里以及下面的代码中都采用了绝对路径，所以在自己运行时请修改路径。文件会附在github中。"
   ]
  },
  {
   "cell_type": "code",
   "execution_count": 4,
   "metadata": {
    "collapsed": false
   },
   "outputs": [],
   "source": [
    "cvrt.FLAGS.input_dir=r'E:\\Magenta\\Dataset\\xml_raw'\n",
    "cvrt.FLAGS.output_file=r'E:\\Magenta\\Dataset\\pre\\bach.tfrecord'\n",
    "cvrt.FLAGS.num_threads=4\n",
    "cvrt.FLAGS.recursive=True\n",
    "cvrt.FLAGS.log='INFO'"
   ]
  },
  {
   "cell_type": "code",
   "execution_count": 5,
   "metadata": {
    "collapsed": false,
    "scrolled": true
   },
   "outputs": [
    {
     "name": "stdout",
     "output_type": "stream",
     "text": [
      "INFO:tensorflow:Converting files in 'E:\\Magenta\\Dataset\\xml_raw\\'.\n",
      "INFO:tensorflow:0 files converted.\n",
      "INFO:tensorflow:Converted MusicXML file E:\\Magenta\\Dataset\\xml_raw\\bwv1.6.mxl.\n",
      "INFO:tensorflow:Converted MusicXML file E:\\Magenta\\Dataset\\xml_raw\\bwv2.6.mxl.\n"
     ]
    },
    {
     "ename": "SystemExit",
     "evalue": "",
     "output_type": "error",
     "traceback": [
      "An exception has occurred, use %tb to see the full traceback.\n",
      "\u001b[1;31mSystemExit\u001b[0m\n"
     ]
    },
    {
     "name": "stderr",
     "output_type": "stream",
     "text": [
      "D:\\Anaconda3\\envs\\tensorflow\\lib\\site-packages\\IPython\\core\\interactiveshell.py:2918: UserWarning: To exit: use 'exit', 'quit', or Ctrl-D.\n",
      "  warn(\"To exit: use 'exit', 'quit', or Ctrl-D.\", stacklevel=1)\n"
     ]
    }
   ],
   "source": [
    "tf.app.run(cvrt.main)"
   ]
  },
  {
   "cell_type": "markdown",
   "metadata": {},
   "source": [
    "如上所说，这个文件包含convert_midi(root_dir, sub_dir, full_file_path)、convert_musicxml(root_dir, sub_dir, full_file_path)两个函数。\n",
    "\n",
    "下面我们分别来运行一下转换函数并看一下它们返回的结果。"
   ]
  },
  {
   "cell_type": "code",
   "execution_count": 6,
   "metadata": {
    "collapsed": false
   },
   "outputs": [
    {
     "name": "stdout",
     "output_type": "stream",
     "text": [
      "INFO:tensorflow:Converted MusicXML file E:\\Magenta\\Dataset\\xml_raw\\bwv1.6.mxl.\n"
     ]
    }
   ],
   "source": [
    "full_file_path_xml=r'E:\\Magenta\\Dataset\\xml_raw\\bwv1.6.mxl'\n",
    "root_dir_xml=r'E:\\Magenta\\Dataset\\xml_raw'\n",
    "sub_dir_xml=r'E:\\Magenta\\Dataset\\xml_raw'\n",
    "sequence_xml=cvrt.convert_musicxml(root_dir_xml, sub_dir_xml, full_file_path_xml)"
   ]
  },
  {
   "cell_type": "markdown",
   "metadata": {},
   "source": [
    "我们可以看到sequence_xml是一个基于Google protobuf的数据类型。"
   ]
  },
  {
   "cell_type": "code",
   "execution_count": 7,
   "metadata": {
    "collapsed": false
   },
   "outputs": [
    {
     "name": "stdout",
     "output_type": "stream",
     "text": [
      "<class 'magenta.protobuf.music_pb2.NoteSequence'>\n"
     ]
    }
   ],
   "source": [
    "print(type(sequence_xml))"
   ]
  },
  {
   "cell_type": "code",
   "execution_count": 8,
   "metadata": {
    "collapsed": true
   },
   "outputs": [],
   "source": [
    "#print(sequence_xml)"
   ]
  },
  {
   "cell_type": "markdown",
   "metadata": {},
   "source": [
    "从上面我们可以看到这里面包含了路径、id、以及xml中的内容。大部分应该是直接从xml中直接转换而来，但将它们分成类结构化储存了。\n",
    "\n",
    "于是，我们也可以直接访问它的子类"
   ]
  },
  {
   "cell_type": "code",
   "execution_count": 9,
   "metadata": {
    "collapsed": false
   },
   "outputs": [
    {
     "name": "stdout",
     "output_type": "stream",
     "text": [
      "/id/musicxml/xml_raw/efab6353dd5ebf096204bc6316d1d2f003b156c7\n",
      "E:\\Magenta\\Dataset\\xml_raw\\bwv1.6.mxl\n"
     ]
    }
   ],
   "source": [
    "print(sequence_xml.id)\n",
    "print(sequence_xml.filename)"
   ]
  },
  {
   "cell_type": "code",
   "execution_count": 10,
   "metadata": {
    "collapsed": false
   },
   "outputs": [
    {
     "name": "stdout",
     "output_type": "stream",
     "text": [
      "<class 'google.protobuf.pyext._message.RepeatedCompositeContainer'>\n"
     ]
    }
   ],
   "source": [
    "print(type(sequence_xml.notes))"
   ]
  },
  {
   "cell_type": "markdown",
   "metadata": {},
   "source": [
    "sequence_xml的note类里面就是最主要的内容了，主要记录了所有的音符。\n",
    "音符类当然也支持索引，我们可以看到每个音符由音高、音色、起始时间、终止时间等组成。"
   ]
  },
  {
   "cell_type": "code",
   "execution_count": 11,
   "metadata": {
    "collapsed": false
   },
   "outputs": [
    {
     "name": "stdout",
     "output_type": "stream",
     "text": [
      "pitch: 65\n",
      "velocity: 64\n",
      "end_time: 0.5\n",
      "numerator: 1\n",
      "denominator: 4\n",
      "instrument: 7\n",
      "program: 1\n",
      "voice: 1\n",
      "\n"
     ]
    }
   ],
   "source": [
    "print(sequence_xml.notes[0])"
   ]
  },
  {
   "cell_type": "markdown",
   "metadata": {},
   "source": [
    "我用MuseScore2将XML导出为midi后进行下面的测试："
   ]
  },
  {
   "cell_type": "code",
   "execution_count": 12,
   "metadata": {
    "collapsed": false
   },
   "outputs": [
    {
     "name": "stdout",
     "output_type": "stream",
     "text": [
      "INFO:tensorflow:Converted MIDI file E:\\Magenta\\Midi\\bwv1.6.mid.\n"
     ]
    },
    {
     "name": "stderr",
     "output_type": "stream",
     "text": [
      "D:\\Anaconda3\\envs\\tensorflow\\lib\\site-packages\\pretty_midi\\pretty_midi.py:100: RuntimeWarning: Tempo, Key or Time signature change events found on non-zero tracks.  This is not a valid type 0 or type 1 MIDI file.  Tempo, Key or Time Signature may be wrong.\n",
      "  RuntimeWarning)\n"
     ]
    }
   ],
   "source": [
    "full_file_path_midi=r'E:\\Magenta\\Midi\\bwv1.6.mid'\n",
    "root_dir_midi=r'E:\\Magenta\\Midi'\n",
    "sub_dir_midi=r'E:\\Magenta\\Midi'\n",
    "sequence_midi=cvrt.convert_midi(root_dir_midi, sub_dir_midi, full_file_path_midi)"
   ]
  },
  {
   "cell_type": "markdown",
   "metadata": {},
   "source": [
    "我们看到，MIDI形式的储存格式和XML大同小异，但是起始和终止的时间看起来很乱。"
   ]
  },
  {
   "cell_type": "code",
   "execution_count": 13,
   "metadata": {
    "collapsed": true
   },
   "outputs": [],
   "source": [
    "#print(sequence_midi)"
   ]
  },
  {
   "cell_type": "code",
   "execution_count": 14,
   "metadata": {
    "collapsed": false
   },
   "outputs": [
    {
     "name": "stdout",
     "output_type": "stream",
     "text": [
      "<class 'google.protobuf.pyext._message.RepeatedCompositeContainer'>\n"
     ]
    }
   ],
   "source": [
    "print(type(sequence_midi.notes))"
   ]
  },
  {
   "cell_type": "code",
   "execution_count": 15,
   "metadata": {
    "collapsed": false
   },
   "outputs": [
    {
     "name": "stdout",
     "output_type": "stream",
     "text": [
      "pitch: 65\n",
      "velocity: 80\n",
      "end_time: 0.7878292625\n",
      "\n",
      "pitch: 67\n",
      "velocity: 80\n",
      "start_time: 0.789474\n",
      "end_time: 1.1825662625\n",
      "\n",
      "pitch: 67\n",
      "velocity: 80\n",
      "start_time: 51.31581\n",
      "end_time: 52.1036392625\n",
      "instrument: 2\n",
      "\n"
     ]
    }
   ],
   "source": [
    "print(sequence_midi.notes[0])\n",
    "print(sequence_midi.notes[1])\n",
    "print(sequence_midi.notes[288])"
   ]
  },
  {
   "cell_type": "markdown",
   "metadata": {
    "collapsed": true
   },
   "source": [
    "我们可以看到，MIDI的Notes里面的内容就相对简单了。而且似乎格式也不太整齐。这有可能是由于我转换的方式不够好。"
   ]
  },
  {
   "cell_type": "code",
   "execution_count": 16,
   "metadata": {
    "collapsed": false
   },
   "outputs": [
    {
     "name": "stdout",
     "output_type": "stream",
     "text": [
      "INFO:tensorflow:Converted MIDI file E:\\Magenta\\Midi\\Bwv0525 Sonate en trio n1.mid.\n"
     ]
    }
   ],
   "source": [
    "full_file_path_midi=r'E:\\Magenta\\Midi\\Bwv0525 Sonate en trio n1.mid'\n",
    "root_dir_midi=r'E:\\Magenta\\Midi'\n",
    "sub_dir_midi=r'E:\\Magenta\\Midi'\n",
    "sequence_midi=cvrt.convert_midi(root_dir_midi, sub_dir_midi, full_file_path_midi)"
   ]
  },
  {
   "cell_type": "code",
   "execution_count": 17,
   "metadata": {
    "collapsed": true
   },
   "outputs": [],
   "source": [
    "#print(sequence_midi)"
   ]
  },
  {
   "cell_type": "code",
   "execution_count": 18,
   "metadata": {
    "collapsed": false
   },
   "outputs": [
    {
     "name": "stdout",
     "output_type": "stream",
     "text": [
      "pitch: 70\n",
      "velocity: 92\n",
      "start_time: 6.4\n",
      "end_time: 6.800000000000001\n",
      "\n",
      "pitch: 74\n",
      "velocity: 92\n",
      "start_time: 6.800000000000001\n",
      "end_time: 7.2\n",
      "\n",
      "pitch: 69\n",
      "velocity: 97\n",
      "start_time: 139.8\n",
      "end_time: 140.0\n",
      "instrument: 1\n",
      "program: 19\n",
      "\n"
     ]
    }
   ],
   "source": [
    "print(sequence_midi.notes[0])\n",
    "print(sequence_midi.notes[1])\n",
    "print(sequence_midi.notes[2880])"
   ]
  },
  {
   "cell_type": "markdown",
   "metadata": {},
   "source": [
    "换了一个MIDI数据集中的MIDI文件，似乎还是这样。具体原因我再寻找一下，在下一节时分析。"
   ]
  },
  {
   "cell_type": "markdown",
   "metadata": {},
   "source": [
    "## 总结\n",
    "我们了解了Magenta项目原始数据整合的过程，并了解了读取MIDI和XML的函数。\n",
    "\n",
    "如果你想进行自己的项目的话，直接用Magenta的数据处理函数也是个不错的选择。\n",
    "\n",
    "同时，也有其他的数据读取与处理方式，例如Magenta.piplines类，pretty_midi库，都是不错的选择。但在这里就不详细展开了，也许在之后的教程里会提到。\n",
    "\n",
    "对于读取到的MIDI数据以及XML数据的解释，我会在下一节中说明。\n",
    "\n",
    "最后，对于生成的tfrecord，Magenta将数据转换成了二进制字符储存，读取稍微有些复杂，我们有机会再详细说明。"
   ]
  }
 ],
 "metadata": {
  "anaconda-cloud": {},
  "kernelspec": {
   "display_name": "Python [conda env:tensorflow]",
   "language": "python",
   "name": "conda-env-tensorflow-py"
  },
  "language_info": {
   "codemirror_mode": {
    "name": "ipython",
    "version": 3
   },
   "file_extension": ".py",
   "mimetype": "text/x-python",
   "name": "python",
   "nbconvert_exporter": "python",
   "pygments_lexer": "ipython3",
   "version": "3.5.4"
  }
 },
 "nbformat": 4,
 "nbformat_minor": 1
}
